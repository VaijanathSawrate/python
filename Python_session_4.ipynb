{
 "cells": [
  {
   "cell_type": "markdown",
   "metadata": {},
   "source": [
    "# flow control"
   ]
  },
  {
   "cell_type": "code",
   "execution_count": 1,
   "metadata": {},
   "outputs": [
    {
     "name": "stdout",
     "output_type": "stream",
     "text": [
      "Number?14\n",
      "The absolute value of  14.0 is 14.0\n"
     ]
    }
   ],
   "source": [
    "n=  float(input(\"Number?\"))\n",
    "if n>=0:\n",
    "    print(\"The absolute value of \",n,\"is\",n)\n",
    "else:\n",
    "    print(\"The absolute value of\",n,\"is\",-n)\n",
    "        \n",
    "    sumofnum=50+60\n",
    "    print(sumofnum)"
   ]
  },
  {
   "cell_type": "code",
   "execution_count": 2,
   "metadata": {},
   "outputs": [
    {
     "name": "stdout",
     "output_type": "stream",
     "text": [
      "Vaijanath\n",
      "the name entered is not valid\n"
     ]
    }
   ],
   "source": [
    "name=\"Vaijanath\"\n",
    "print(name)\n",
    "if name==\"vaijanath\":\n",
    "    print(\"the name entered is\",name)\n",
    "elif name==\"john\":\n",
    "    print(\"the name entered is\",name)\n",
    "elif name==\"tim\":\n",
    "    print(\"the name entered is\",name)\n",
    "    \n",
    "else:\n",
    "    print(\"the name entered is not valid\")"
   ]
  },
  {
   "cell_type": "code",
   "execution_count": 3,
   "metadata": {},
   "outputs": [
    {
     "name": "stdout",
     "output_type": "stream",
     "text": [
      "i have given up\n",
      "abc\n"
     ]
    }
   ],
   "source": [
    "name=\"animals\"\n",
    "animalname=\"4dog\"\n",
    "if name==\"animals\":\n",
    "    if animalname==\"2dog\":\n",
    "        print(\"valid animal\")\n",
    "        print(\"name entered is animal\")\n",
    "    else:\n",
    "        print(\"i have given up\")\n",
    "        print(\"abc\")\n",
    "else:\n",
    "    print(\"the name entered is not valid\")\n"
   ]
  },
  {
   "cell_type": "code",
   "execution_count": 6,
   "metadata": {},
   "outputs": [
    {
     "name": "stdout",
     "output_type": "stream",
     "text": [
      "0 FIRST PRINT\n",
      "1 SECOND PRINT\n",
      "1 FIRST PRINT\n",
      "2 SECOND PRINT\n",
      "2 FIRST PRINT\n",
      "3 SECOND PRINT\n",
      "3 FIRST PRINT\n",
      "4 SECOND PRINT\n",
      "4 FIRST PRINT\n",
      "5 SECOND PRINT\n"
     ]
    }
   ],
   "source": [
    "a=0\n",
    "while a<5:\n",
    "    print(a,\"FIRST PRINT\")\n",
    "    a=a+1\n",
    "    print(a,\"SECOND PRINT\")"
   ]
  },
  {
   "cell_type": "code",
   "execution_count": 7,
   "metadata": {},
   "outputs": [
    {
     "name": "stdout",
     "output_type": "stream",
     "text": [
      "Enter Number to add to Sum\n",
      "Enter 0 to Quit\n",
      "current Sum: 0\n",
      "Enter a Number?:5\n",
      "current Sum: 5.0\n",
      "Enter a Number?:5\n",
      "current Sum: 10.0\n",
      "Enter a Number?:0\n",
      "Total sum= 10.0\n"
     ]
    }
   ],
   "source": [
    "a=1\n",
    "s=0\n",
    "x=0\n",
    "print(\"Enter Number to add to Sum\")\n",
    "print(\"Enter 0 to Quit\")\n",
    "while a!=0:\n",
    "    print(\"current Sum:\",s)\n",
    "    a=float(input(\"Enter a Number?:\"))\n",
    "    #s += a\n",
    "    s=s+a\n",
    "print('Total sum=',s)    "
   ]
  },
  {
   "cell_type": "code",
   "execution_count": 14,
   "metadata": {},
   "outputs": [
    {
     "name": "stdout",
     "output_type": "stream",
     "text": [
      "1 target\n",
      "0 Guess\n",
      "Guess a number between 1 and 10 untill you get it right1\n",
      "Well guesswd!\n"
     ]
    }
   ],
   "source": [
    "# Guess a number between 1 to 9\n",
    "import random\n",
    "target_num, guess_num=random.randint(1,10),0\n",
    "print(target_num,'target')\n",
    "print(guess_num,'Guess')\n",
    "while target_num != guess_num:\n",
    "    guess_num=int(input('Guess a number between 1 and 10 untill you get it right'))\n",
    "print('Well guesswd!')"
   ]
  }
 ],
 "metadata": {
  "kernelspec": {
   "display_name": "Python 3",
   "language": "python",
   "name": "python3"
  },
  "language_info": {
   "codemirror_mode": {
    "name": "ipython",
    "version": 3
   },
   "file_extension": ".py",
   "mimetype": "text/x-python",
   "name": "python",
   "nbconvert_exporter": "python",
   "pygments_lexer": "ipython3",
   "version": "3.7.9"
  }
 },
 "nbformat": 4,
 "nbformat_minor": 4
}
