{
 "cells": [
  {
   "cell_type": "markdown",
   "metadata": {},
   "source": [
    "# LOOps"
   ]
  },
  {
   "cell_type": "code",
   "execution_count": 1,
   "metadata": {},
   "outputs": [
    {
     "name": "stdout",
     "output_type": "stream",
     "text": [
      "1\n",
      "2\n",
      "3\n",
      "4\n",
      "5\n",
      "6\n",
      "7\n",
      "8\n",
      "9\n"
     ]
    }
   ],
   "source": [
    "for variable in range(1,10): \n",
    "    print(variable)\n",
    "    "
   ]
  },
  {
   "cell_type": "code",
   "execution_count": 2,
   "metadata": {},
   "outputs": [
    {
     "name": "stdout",
     "output_type": "stream",
     "text": [
      "[2, 3, 4, 5, 6, 7, 8]\n"
     ]
    }
   ],
   "source": [
    "list_example=[0,1,2,3,4,5,6]\n",
    "#for a in list_example:\n",
    " #   print(a+2)\n",
    "\n",
    "for index in range (0,len(list_example)):\n",
    "    list_example[index]=list_example[index]+2\n",
    "print(list_example)    \n"
   ]
  },
  {
   "cell_type": "code",
   "execution_count": 3,
   "metadata": {},
   "outputs": [
    {
     "name": "stdout",
     "output_type": "stream",
     "text": [
      "it is a fuit called apple\n",
      "it is a fuit called banana\n",
      "it is a fuit called citric\n",
      "it ia an animal called dog\n",
      "it is a fuit called grapes\n"
     ]
    }
   ],
   "source": [
    "# for loop and if loop\n",
    "list_example2=[\"apple\",\"banana\",\"citric\",\"dog\",\"grapes\"]\n",
    "for item in list_example2:\n",
    "    if item=='dog':\n",
    "        print(\"it ia an animal called\",item)\n",
    "    else:\n",
    "        print(\"it is a fuit called\",item)"
   ]
  },
  {
   "cell_type": "code",
   "execution_count": 4,
   "metadata": {},
   "outputs": [
    {
     "name": "stdout",
     "output_type": "stream",
     "text": [
      "0\n",
      "1\n",
      "3\n",
      "6\n",
      "10\n",
      "15\n",
      "21\n",
      "28\n",
      "36\n",
      "45\n",
      "55\n",
      "66\n",
      "78\n",
      "91\n",
      "105\n",
      "120\n",
      "136\n",
      "153\n",
      "171\n"
     ]
    }
   ],
   "source": [
    "#summation of numbers\n",
    "summation=0\n",
    "for number in range(0,19):\n",
    "    summation=summation+number\n",
    "    print(summation)"
   ]
  },
  {
   "cell_type": "markdown",
   "metadata": {},
   "source": [
    "# List Comprehensions\n",
    "### it provide concise way to create lists . it is elegant way to create lists based on other lists"
   ]
  },
  {
   "cell_type": "code",
   "execution_count": 5,
   "metadata": {},
   "outputs": [],
   "source": [
    "example='notseparatedlist'"
   ]
  },
  {
   "cell_type": "code",
   "execution_count": 6,
   "metadata": {},
   "outputs": [
    {
     "name": "stdout",
     "output_type": "stream",
     "text": [
      "['n', 'o', 't', 's', 'e', 'p', 'a', 'r', 'a', 't', 'e', 'd', 'l', 'i', 's', 't']\n",
      "['n', 'o', 't', 's', 'e', 'p', 'a', 'r', 'a', 't', 'e', 'd', 'l', 'i', 's', 't']\n"
     ]
    }
   ],
   "source": [
    "#to separate character from above string\n",
    "list_example=[]\n",
    "for char in example:\n",
    "    list_example.append(char)\n",
    "print(list_example)\n",
    "\n",
    "#using list comprehensions\n",
    "print([char for char in example])"
   ]
  },
  {
   "cell_type": "code",
   "execution_count": 7,
   "metadata": {},
   "outputs": [],
   "source": [
    "int_list=[1,3,12,3,4,45,23,1,3,44,5,5,10]"
   ]
  },
  {
   "cell_type": "code",
   "execution_count": 8,
   "metadata": {},
   "outputs": [
    {
     "data": {
      "text/plain": [
       "[1, 3, 3, 45, 23, 1, 3, 5, 5]"
      ]
     },
     "execution_count": 8,
     "metadata": {},
     "output_type": "execute_result"
    }
   ],
   "source": [
    "[integer for integer in int_list if integer%2==1]"
   ]
  },
  {
   "cell_type": "code",
   "execution_count": 9,
   "metadata": {},
   "outputs": [
    {
     "name": "stdout",
     "output_type": "stream",
     "text": [
      "['Odd', 'Odd', 'Even', 'Odd', 'Even', 'Odd', 'Odd', 'Odd', 'Odd', 'Even', 'Odd', 'Odd', 'Even']\n"
     ]
    }
   ],
   "source": [
    "print([\"Even\" if integer%2==0 else \"Odd\" for integer in int_list])"
   ]
  },
  {
   "cell_type": "code",
   "execution_count": 10,
   "metadata": {},
   "outputs": [],
   "source": [
    "def abc(name):\n",
    "    print(\"123\",name)"
   ]
  },
  {
   "cell_type": "code",
   "execution_count": 11,
   "metadata": {},
   "outputs": [
    {
     "name": "stdout",
     "output_type": "stream",
     "text": [
      "123 vaijanath\n"
     ]
    }
   ],
   "source": [
    "abc(\"vaijanath\")"
   ]
  },
  {
   "cell_type": "code",
   "execution_count": 12,
   "metadata": {},
   "outputs": [],
   "source": [
    "def studentscore(name,score):\n",
    "    print(name,\"scored\",score,\"Marks\")\n",
    "    "
   ]
  },
  {
   "cell_type": "code",
   "execution_count": 13,
   "metadata": {},
   "outputs": [
    {
     "name": "stdout",
     "output_type": "stream",
     "text": [
      "Vivek scored 86 Marks\n"
     ]
    }
   ],
   "source": [
    "studentscore(\"Vivek\",86)"
   ]
  },
  {
   "cell_type": "markdown",
   "metadata": {},
   "source": [
    "## Python has module named datetime to work with dates and times"
   ]
  },
  {
   "cell_type": "code",
   "execution_count": 14,
   "metadata": {},
   "outputs": [
    {
     "name": "stdout",
     "output_type": "stream",
     "text": [
      "2021-01-04 11:38:43.752124\n"
     ]
    }
   ],
   "source": [
    "import datetime \n",
    "\n",
    "datetime_object=datetime.datetime.now()\n",
    "print(datetime_object)"
   ]
  },
  {
   "cell_type": "code",
   "execution_count": 15,
   "metadata": {},
   "outputs": [
    {
     "name": "stdout",
     "output_type": "stream",
     "text": [
      "2021-01-04 11:38:43.911922\n"
     ]
    }
   ],
   "source": [
    "date_object=datetime.datetime.today()\n",
    "print(date_object)"
   ]
  },
  {
   "cell_type": "code",
   "execution_count": 16,
   "metadata": {},
   "outputs": [
    {
     "name": "stdout",
     "output_type": "stream",
     "text": [
      "2030-03-27\n"
     ]
    }
   ],
   "source": [
    "d=datetime.date(2030,3,27)\n",
    "print(d)"
   ]
  },
  {
   "cell_type": "code",
   "execution_count": 17,
   "metadata": {},
   "outputs": [
    {
     "name": "stdout",
     "output_type": "stream",
     "text": [
      "Date= 1973-11-20\n"
     ]
    }
   ],
   "source": [
    "from datetime import date\n",
    "timestamp=date.fromtimestamp(122624310)\n",
    "print(\"Date=\",timestamp)"
   ]
  },
  {
   "cell_type": "code",
   "execution_count": 18,
   "metadata": {},
   "outputs": [
    {
     "name": "stdout",
     "output_type": "stream",
     "text": [
      "current year: 2021\n",
      "current month: 1\n",
      "current day: 4\n"
     ]
    }
   ],
   "source": [
    "today=date.today()\n",
    "\n",
    "print(\"current year:\",today.year)\n",
    "print(\"current month:\",today.month)\n",
    "print(\"current day:\",today.day)\n"
   ]
  },
  {
   "cell_type": "code",
   "execution_count": 19,
   "metadata": {},
   "outputs": [
    {
     "name": "stdout",
     "output_type": "stream",
     "text": [
      "a=a 00:00:00\n",
      "b=b 11:34:56\n",
      "c= 11:34:56\n",
      "d= 11:34:56.234566\n"
     ]
    }
   ],
   "source": [
    "from datetime import time\n",
    "\n",
    "#time(hour=0,minute=0,second=0)\n",
    "a=time()\n",
    "print(\"a=a\",a)\n",
    "\n",
    "#time(hour,minute and second)\n",
    "b=time(11,34,56)\n",
    "print(\"b=b\",b)\n",
    "\n",
    "#time(hour, minute , and second)\n",
    "c=time(hour=11,minute=34, second=56)\n",
    "print(\"c=\",c)\n",
    "\n",
    "#time(hour,minute,second,microsecond)\n",
    "d=time(11,34,56,234566)\n",
    "print(\"d=\",d)\n"
   ]
  },
  {
   "cell_type": "code",
   "execution_count": 20,
   "metadata": {},
   "outputs": [
    {
     "name": "stdout",
     "output_type": "stream",
     "text": [
      "hour= 11\n",
      "minute= 33\n",
      "second= 56\n",
      "microsecond= 0\n"
     ]
    }
   ],
   "source": [
    "## exracting from time\n",
    "\n",
    "a=time(11,33,56)\n",
    "print(\"hour=\",a.hour)\n",
    "print(\"minute=\",a.minute)\n",
    "print(\"second=\",a.second)\n",
    "print(\"microsecond=\",a.microsecond)"
   ]
  },
  {
   "cell_type": "markdown",
   "metadata": {},
   "source": [
    "# datetime.timedelta"
   ]
  },
  {
   "cell_type": "markdown",
   "metadata": {},
   "source": [
    "#### A timedelta object represents the difference between two dates or times"
   ]
  },
  {
   "cell_type": "code",
   "execution_count": 21,
   "metadata": {},
   "outputs": [
    {
     "name": "stdout",
     "output_type": "stream",
     "text": [
      "t3= 8724 days, 0:00:00\n"
     ]
    }
   ],
   "source": [
    "from datetime import datetime,date\n",
    "\n",
    "t1=date(year=1997, month=2, day=14)\n",
    "t2=date(year=2021, month=1, day=3)\n",
    "t3=t2-t1\n",
    "print(\"t3=\",t3)"
   ]
  },
  {
   "cell_type": "code",
   "execution_count": 22,
   "metadata": {},
   "outputs": [
    {
     "data": {
      "text/plain": [
       "datetime.timedelta(days=23, seconds=77878, microseconds=356164)"
      ]
     },
     "execution_count": 22,
     "metadata": {},
     "output_type": "execute_result"
    }
   ],
   "source": [
    "import math\n",
    "t3/365"
   ]
  },
  {
   "cell_type": "code",
   "execution_count": 23,
   "metadata": {},
   "outputs": [
    {
     "data": {
      "text/plain": [
       "8724"
      ]
     },
     "execution_count": 23,
     "metadata": {},
     "output_type": "execute_result"
    }
   ],
   "source": [
    "t3.days"
   ]
  },
  {
   "cell_type": "code",
   "execution_count": 24,
   "metadata": {},
   "outputs": [
    {
     "data": {
      "text/plain": [
       "datetime.timedelta"
      ]
     },
     "execution_count": 24,
     "metadata": {},
     "output_type": "execute_result"
    }
   ],
   "source": [
    "type(t3)"
   ]
  },
  {
   "cell_type": "code",
   "execution_count": 25,
   "metadata": {},
   "outputs": [
    {
     "name": "stdout",
     "output_type": "stream",
     "text": [
      "8472 days, 10:10:00\n",
      "<class 'datetime.timedelta'>\n"
     ]
    }
   ],
   "source": [
    "t4=datetime(year=1997,month=10,day=24,hour=5,minute=30,second=30)\n",
    "t5=datetime(year=2021,month=1,day=3,hour=15,minute=40,second=30)\n",
    "t6=t5-t4\n",
    "print(t6)\n",
    "print(type(t6))"
   ]
  },
  {
   "cell_type": "code",
   "execution_count": 26,
   "metadata": {},
   "outputs": [
    {
     "data": {
      "text/plain": [
       "732017400.0"
      ]
     },
     "execution_count": 26,
     "metadata": {},
     "output_type": "execute_result"
    }
   ],
   "source": [
    "t6.total_seconds()"
   ]
  },
  {
   "cell_type": "code",
   "execution_count": 27,
   "metadata": {},
   "outputs": [
    {
     "name": "stdout",
     "output_type": "stream",
     "text": [
      "2021-01-04 11:38:45.777150\n"
     ]
    }
   ],
   "source": [
    "from datetime import datetime\n",
    "now=datetime.now() # current date and time\n",
    "print(now)"
   ]
  },
  {
   "cell_type": "code",
   "execution_count": 28,
   "metadata": {},
   "outputs": [
    {
     "data": {
      "text/plain": [
       "'2021'"
      ]
     },
     "execution_count": 28,
     "metadata": {},
     "output_type": "execute_result"
    }
   ],
   "source": [
    "# extracting year from date using strftime  reeturns string as output\n",
    "datetime.strftime(now,'%Y')"
   ]
  },
  {
   "cell_type": "code",
   "execution_count": 29,
   "metadata": {},
   "outputs": [
    {
     "name": "stdout",
     "output_type": "stream",
     "text": [
      "01\n",
      "04\n"
     ]
    }
   ],
   "source": [
    "month=now.strftime(\"%m\")\n",
    "print(month)\n",
    "day=now.strftime(\"%d\")\n",
    "print(day)"
   ]
  },
  {
   "cell_type": "code",
   "execution_count": 30,
   "metadata": {},
   "outputs": [
    {
     "name": "stdout",
     "output_type": "stream",
     "text": [
      "11:38:45\n"
     ]
    }
   ],
   "source": [
    "time=now.strftime(\"%H:%M:%S\")\n",
    "print(time)"
   ]
  },
  {
   "cell_type": "code",
   "execution_count": 31,
   "metadata": {},
   "outputs": [
    {
     "data": {
      "text/plain": [
       "'01/04/2021 11:38:45'"
      ]
     },
     "execution_count": 31,
     "metadata": {},
     "output_type": "execute_result"
    }
   ],
   "source": [
    "# now we will convrt this into US formst\n",
    "datetime.strftime(now,\"%m/%d/%Y %H:%M:%S\")"
   ]
  },
  {
   "cell_type": "code",
   "execution_count": 32,
   "metadata": {},
   "outputs": [
    {
     "name": "stdout",
     "output_type": "stream",
     "text": [
      "Date time object: 2018-06-12 15:25:22\n",
      "06/12/2018,15:25:22\n",
      "12/Jun/2018\n",
      "12/June/2018\n",
      "03PM\n"
     ]
    }
   ],
   "source": [
    "#extracting from timestamp\n",
    "from datetime import datetime\n",
    "timestamp=1528797322\n",
    "date_time=datetime.fromtimestamp(timestamp)\n",
    "\n",
    "print(\"Date time object:\",date_time)\n",
    "\n",
    "d=date_time.strftime(\"%m/%d/%Y,%H:%M:%S\")\n",
    "print(d)\n",
    "\n",
    "d=date_time.strftime(\"%d/%b/%Y\")\n",
    "print(d)\n",
    "\n",
    "d=date_time.strftime(\"%d/%B/%Y\")\n",
    "print(d)\n",
    "\n",
    "\n",
    "d=date_time.strftime(\"%I%p\")\n",
    "print(d)\n",
    "\n"
   ]
  },
  {
   "cell_type": "code",
   "execution_count": 33,
   "metadata": {},
   "outputs": [
    {
     "name": "stdout",
     "output_type": "stream",
     "text": [
      "21 June, 2018\n",
      "type of date_string= <class 'str'>\n",
      "2018-06-21 00:00:00\n",
      "<class 'datetime.datetime'>\n"
     ]
    }
   ],
   "source": [
    "from datetime import datetime\n",
    "date_string=\"21 June, 2018\"\n",
    "\n",
    "print(date_string)\n",
    "print(\"type of date_string=\", type(date_string))\n",
    "\n",
    "date_object=datetime.strptime(date_string,\"%d %B, %Y\")\n",
    "print(date_object)\n",
    "print(type(date_object))"
   ]
  },
  {
   "cell_type": "code",
   "execution_count": 34,
   "metadata": {},
   "outputs": [
    {
     "name": "stdout",
     "output_type": "stream",
     "text": [
      "2018-11-12 09:15:32\n",
      "2018-12-11 09:15:32\n"
     ]
    }
   ],
   "source": [
    "from datetime import datetime\n",
    "dt_string=\"12/11/2018 09:15:32\"\n",
    "  \n",
    "    # considering date is in dd/mm/yyyy format\n",
    "dt_object1=datetime.strptime(dt_string,\"%d/%m/%Y %H:%M:%S\")\n",
    "print(dt_object1)\n",
    "    \n",
    "    # considering date is in mm/dd/yyyy format\n",
    "dt_object2=datetime.strptime(dt_string,\"%m/%d/%Y %H:%M:%S\")\n",
    "print(dt_object2)"
   ]
  },
  {
   "cell_type": "code",
   "execution_count": 37,
   "metadata": {},
   "outputs": [],
   "source": [
    "fh=open(\"D:\\\\DATA_science.txt\",'w')\n",
    "fh.writelines(\"This is line no. 1\")\n",
    "fh.writelines(\"                 \")\n",
    "fh.writelines(\"This is line no. 2\")\n",
    "fh.close()              "
   ]
  }
 ],
 "metadata": {
  "kernelspec": {
   "display_name": "Python 3",
   "language": "python",
   "name": "python3"
  },
  "language_info": {
   "codemirror_mode": {
    "name": "ipython",
    "version": 3
   },
   "file_extension": ".py",
   "mimetype": "text/x-python",
   "name": "python",
   "nbconvert_exporter": "python",
   "pygments_lexer": "ipython3",
   "version": "3.7.9"
  }
 },
 "nbformat": 4,
 "nbformat_minor": 4
}
