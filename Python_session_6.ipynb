{
 "cells": [
  {
   "cell_type": "code",
   "execution_count": 3,
   "metadata": {},
   "outputs": [
    {
     "name": "stdout",
     "output_type": "stream",
     "text": [
      "This is line no. 1                 This is line no. 2\n"
     ]
    }
   ],
   "source": [
    "fh=open(\"D:\\\\DATA_science.txt\",'r')\n",
    "print(fh.readline())\n",
    "fh.close()"
   ]
  },
  {
   "cell_type": "code",
   "execution_count": 30,
   "metadata": {},
   "outputs": [
    {
     "ename": "SyntaxError",
     "evalue": "invalid syntax (<ipython-input-30-11c8584c474c>, line 1)",
     "output_type": "error",
     "traceback": [
      "\u001b[1;36m  File \u001b[1;32m\"<ipython-input-30-11c8584c474c>\"\u001b[1;36m, line \u001b[1;32m1\u001b[0m\n\u001b[1;33m    pip install bs4\u001b[0m\n\u001b[1;37m              ^\u001b[0m\n\u001b[1;31mSyntaxError\u001b[0m\u001b[1;31m:\u001b[0m invalid syntax\n"
     ]
    }
   ],
   "source": [
    "pip install bs4\n",
    "pip insatll lxml"
   ]
  },
  {
   "cell_type": "code",
   "execution_count": 27,
   "metadata": {},
   "outputs": [
    {
     "name": "stdout",
     "output_type": "stream",
     "text": [
      "<title>News - Latest News, Breaking News, Bollywood, Sports, Business and Political News | Times of India</title>\n"
     ]
    }
   ],
   "source": [
    "import bs4 as bs\n",
    "import urllib.request\n",
    "sauce=urllib.request.urlopen(\"https://timesofindia.indiatimes.com\")\n",
    "soup=bs.BeautifulSoup(sauce,'lxml')\n",
    "\n",
    "#print(sauce)\n",
    "#print(soup)\n",
    "print(soup.title)"
   ]
  },
  {
   "cell_type": "code",
   "execution_count": 32,
   "metadata": {},
   "outputs": [
    {
     "name": "stdout",
     "output_type": "stream",
     "text": [
      "10\n"
     ]
    }
   ],
   "source": [
    "double=lambda x:x*2\n",
    "print(double(5))"
   ]
  },
  {
   "cell_type": "code",
   "execution_count": 34,
   "metadata": {},
   "outputs": [
    {
     "name": "stdout",
     "output_type": "stream",
     "text": [
      "8\n"
     ]
    }
   ],
   "source": [
    "def double(x):\n",
    "    return x*2\n",
    "print(double(4))"
   ]
  },
  {
   "cell_type": "code",
   "execution_count": 36,
   "metadata": {},
   "outputs": [
    {
     "name": "stdout",
     "output_type": "stream",
     "text": [
      "[4, 6, 2, 34, 12, 4, 18, 14]\n"
     ]
    }
   ],
   "source": [
    "#Progrm to filter out only the even items from a list\n",
    "my_list=[1,3,5,4,6,2,3,34,12,45,65,43,1,4,1,7,18,15,14]\n",
    "\n",
    "new_list=list(filter(lambda x:(x%2==0),my_list))\n",
    "\n",
    "print(new_list)"
   ]
  },
  {
   "cell_type": "code",
   "execution_count": 38,
   "metadata": {},
   "outputs": [
    {
     "name": "stdout",
     "output_type": "stream",
     "text": [
      "[False, False, False, True, True, True, False, True, True, False, False, False, False, True, False, False, True, False, True]\n"
     ]
    }
   ],
   "source": [
    "#Progrm to filter out only the even items from a list\n",
    "my_list=[1,3,5,4,6,2,3,34,12,45,65,43,1,4,1,7,18,15,14]\n",
    "\n",
    "new_list=list(map(lambda x:(x%2==0),my_list))\n",
    "\n",
    "print(new_list)"
   ]
  },
  {
   "cell_type": "code",
   "execution_count": 41,
   "metadata": {},
   "outputs": [
    {
     "name": "stdout",
     "output_type": "stream",
     "text": [
      "[2, 6, 10, 8, 12, 4, 6, 68, 24, 90, 130, 86, 2, 8, 2, 14, 36, 30, 28]\n"
     ]
    }
   ],
   "source": [
    "#Progrm to duble each item in  a list\n",
    "my_list=[1,3,5,4,6,2,3,34,12,45,65,43,1,4,1,7,18,15,14]\n",
    "\n",
    "new_list=list(map(lambda x: x*2 , my_list))\n",
    "\n",
    "print(new_list)"
   ]
  },
  {
   "cell_type": "code",
   "execution_count": 52,
   "metadata": {},
   "outputs": [
    {
     "name": "stdout",
     "output_type": "stream",
     "text": [
      "['22', '33', '22', '44', '41', '44']\n",
      "['Janice', 'Theon', 'Amit', 'Gabrial', 'Joi', 'Sundar']\n",
      "{'Janice': '22', 'Theon': '33', 'Amit': '22', 'Gabrial': '44', 'Joi': '41', 'Sundar': '44'}\n"
     ]
    }
   ],
   "source": [
    "import re\n",
    "\n",
    "NameAge='''\n",
    "Janice is 22 and Theon is 33 Amit 22\n",
    "Gabrial is 44 and Joi is 41 Sundar 44\n",
    "'''\n",
    "ages=re.findall(r'\\d{1,3}',NameAge)\n",
    "names=re.findall(r'[A-Z][a-z]*',NameAge)\n",
    "\n",
    "print(ages)\n",
    "print(names)\n",
    "\n",
    "agedict={}\n",
    "\n",
    "x=0\n",
    "\n",
    "for eachname in names:\n",
    "    agedict[eachname]=ages[x]\n",
    "    x+=1\n",
    "    \n",
    "print(agedict)    "
   ]
  },
  {
   "cell_type": "code",
   "execution_count": 55,
   "metadata": {},
   "outputs": [
    {
     "name": "stdout",
     "output_type": "stream",
     "text": [
      "Its a phone number\n"
     ]
    }
   ],
   "source": [
    "import re\n",
    "\n",
    "#\\w [a-zA-Z0-9]\n",
    "#\\w [^a-zA-Z0-9]\n",
    "\n",
    "phone=\"415-775-8547\"\n",
    "\n",
    "# if re.search(\"\\w{3}-\\w{3}-\\w{4}\" , phone):\n",
    "if re.search(\"\\d{3}-\\d{3}-\\d{4}\" , phone):\n",
    "        print(\"Its a phone number\")\n",
    "else:\n",
    "    print(\"Its not a valid phone number\")\n"
   ]
  },
  {
   "cell_type": "code",
   "execution_count": 58,
   "metadata": {},
   "outputs": [
    {
     "name": "stdout",
     "output_type": "stream",
     "text": [
      "(257) 563-7401\n",
      "(372) 587-2335\n",
      "(786) 713-8616\n",
      "(793) 151-6230\n",
      "(492) 709-6392\n",
      "(654) 393-5734\n",
      "(404) 960-3807\n",
      "(314) 244-6306\n",
      "(947) 278-5929\n",
      "(684) 579-1879\n",
      "(389) 737-2852\n",
      "(660) 663-4518\n",
      "(608) 265-2215\n",
      "(959) 119-8364\n",
      "(468) 353-2641\n",
      "(248) 675-4007\n",
      "(939) 353-1107\n",
      "(570) 873-7090\n",
      "(302) 259-2375\n",
      "(717) 450-4729\n",
      "(453) 391-4650\n",
      "(559) 104-5475\n",
      "(387) 142-9434\n",
      "(516) 745-4496\n",
      "(326) 677-3419\n",
      "(746) 679-2470\n",
      "(455) 430-0989\n",
      "(490) 936-4694\n",
      "(985) 834-8285\n",
      "(662) 661-1446\n",
      "(802) 668-8240\n",
      "(477) 768-9247\n",
      "(791) 239-9057\n",
      "(832) 109-0213\n",
      "(837) 196-3274\n",
      "(268) 442-2428\n",
      "(850) 676-5117\n",
      "(861) 546-5032\n",
      "(176) 805-4108\n",
      "(715) 912-6931\n",
      "(993) 554-0563\n",
      "(357) 616-5411\n",
      "(121) 347-0086\n",
      "(304) 506-6314\n",
      "(425) 288-2332\n",
      "(145) 987-4962\n",
      "(187) 582-9707\n",
      "(750) 558-3965\n",
      "(492) 467-3131\n",
      "(774) 914-2510\n",
      "(888) 106-8550\n",
      "(539) 567-3573\n",
      "(693) 337-2849\n",
      "(545) 604-9386\n",
      "(221) 156-5026\n",
      "(414) 876-0865\n",
      "(932) 726-8645\n",
      "(726) 710-9826\n",
      "(622) 594-1662\n",
      "(948) 600-8503\n",
      "(605) 900-7508\n",
      "(716) 977-5775\n",
      "(368) 239-8275\n",
      "(725) 342-0650\n",
      "(711) 993-5187\n",
      "(882) 399-5084\n",
      "(287) 755-9948\n",
      "(659) 551-3389\n",
      "(275) 730-6868\n",
      "(725) 757-4047\n",
      "(314) 882-1496\n",
      "(639) 360-7590\n",
      "(168) 222-1592\n",
      "(896) 303-1164\n",
      "(203) 982-6130\n",
      "(906) 217-1470\n",
      "(614) 514-1269\n",
      "(763) 409-5446\n",
      "(836) 292-5324\n",
      "(926) 709-3295\n",
      "(963) 356-9268\n",
      "(736) 522-8584\n",
      "(410) 483-0352\n",
      "(252) 204-1434\n",
      "(874) 886-4174\n",
      "(581) 379-7573\n",
      "(983) 632-8597\n",
      "(295) 983-3476\n",
      "(873) 392-8802\n",
      "(360) 669-3923\n",
      "(840) 987-9449\n",
      "(422) 517-6053\n",
      "(126) 940-2753\n",
      "(427) 930-5255\n",
      "(689) 721-5145\n",
      "(676) 334-2174\n",
      "(437) 994-5270\n",
      "(564) 908-6970\n",
      "(577) 333-6244\n",
      "(655) 840-6139\n"
     ]
    }
   ],
   "source": [
    "from re import findall\n",
    "\n",
    "url=\"http://www.summet.com/dmsi/html/codesamples/addresses.html\"\n",
    "\n",
    "response = urllib.request.urlopen(url)\n",
    "html = response.read()\n",
    "#print(html)\n",
    "htmlstr = html.decode()\n",
    "#print(htmlstr)\n",
    "\n",
    "pdata=findall(\"\\(\\d{3}\\) \\d{3}-\\d{4}\", htmlstr)\n",
    "\n",
    "for item in pdata:\n",
    "    print(item)"
   ]
  }
 ],
 "metadata": {
  "kernelspec": {
   "display_name": "Python 3",
   "language": "python",
   "name": "python3"
  },
  "language_info": {
   "codemirror_mode": {
    "name": "ipython",
    "version": 3
   },
   "file_extension": ".py",
   "mimetype": "text/x-python",
   "name": "python",
   "nbconvert_exporter": "python",
   "pygments_lexer": "ipython3",
   "version": "3.7.9"
  }
 },
 "nbformat": 4,
 "nbformat_minor": 4
}
